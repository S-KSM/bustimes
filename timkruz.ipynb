{
 "cells": [
  {
   "cell_type": "markdown",
   "metadata": {},
   "source": [
    "First, We import two very useful modules. \n",
    "\n",
    "Pandas is an open source, BSD-licensed library providing high-performance, easy-to-use data structures and data analysis tools for the Python programming language.\n",
    "\n",
    "datetime is the second module that is very powerful for manipulating time and dates.\n"
   ]
  },
  {
   "cell_type": "code",
   "execution_count": 37,
   "metadata": {
    "collapsed": true
   },
   "outputs": [],
   "source": [
    "import pandas as pd\n",
    "import datetime"
   ]
  },
  {
   "cell_type": "markdown",
   "metadata": {},
   "source": [
    "Next, we read all your data into a dataframe. A dataframe is a very useful container for tabulated data. The first\n",
    "argument in this function is the file name (address to the file), and the second argument, \"South\" is the name of the WorkSheet in Excel."
   ]
  },
  {
   "cell_type": "code",
   "execution_count": 38,
   "metadata": {
    "collapsed": true
   },
   "outputs": [],
   "source": [
    "df = pd.read_excel(\"bustimesupdate.xlsx\",\"South\")"
   ]
  },
  {
   "cell_type": "markdown",
   "metadata": {},
   "source": [
    "Here, I am defining the function called **next_bus** that gets two arguments. The first one is a string that is the station name, the second one is a time. The time should be given in a datetime format.\n",
    "\n",
    "        next_bus('Spruce Grove',datetime.time(hour = 5,minute=15,second=0))\n",
    "        \n",
    "The function makes two subsets of the main dataframe based on the time and station name.\n"
   ]
  },
  {
   "cell_type": "code",
   "execution_count": 55,
   "metadata": {
    "collapsed": true
   },
   "outputs": [],
   "source": [
    "def next_bus(mystation = 'Emerald', mytime = datetime.datetime.time(datetime.datetime.now())):\n",
    "    \n",
    "    def next_ride(mystation,mytime):\n",
    "        temp = df[df.Time > mytime]\n",
    "        #print(temp)\n",
    "        temp1 = temp[temp.Station == mystation]\n",
    "        # subset to find the arrival time to Village\n",
    "        temp2 = df[df.Time > temp1.Time.iat[0]]\n",
    "        temp2 = temp2[temp2.Station == 'Village']\n",
    "\n",
    "        nextRide = str(temp1.Time.iat[0])\n",
    "\n",
    "        nextRideVillage = str(temp2.Time.iat[0])\n",
    "        return nextRide, nextRideVillage\n",
    "\n",
    "    try:\n",
    "        nextRide, nextRideVillage = next_ride(mystation,mytime)\n",
    "        \n",
    "    except:\n",
    "        mytime = datetime.time(0,0,1)\n",
    "        nextRide, nextRideVillage = next_ride(mystation,mytime)\n",
    "\n",
    "    return nextRide, nextRideVillage\n",
    "\n",
    "    "
   ]
  },
  {
   "cell_type": "markdown",
   "metadata": {},
   "source": [
    "Let's give it a shot and see if it works:"
   ]
  },
  {
   "cell_type": "markdown",
   "metadata": {},
   "source": [
    "In this example we call the function with a time."
   ]
  },
  {
   "cell_type": "code",
   "execution_count": 56,
   "metadata": {
    "collapsed": false
   },
   "outputs": [
    {
     "data": {
      "text/plain": [
       "('00:16:00', '00:35:00')"
      ]
     },
     "execution_count": 56,
     "metadata": {},
     "output_type": "execute_result"
    }
   ],
   "source": [
    "next_bus('Emerald',datetime.time(23,50,0))"
   ]
  },
  {
   "cell_type": "markdown",
   "metadata": {},
   "source": [
    "In the second example we call the function without a time. In this case, it reads the current time of your system and findes your next ride."
   ]
  },
  {
   "cell_type": "code",
   "execution_count": 57,
   "metadata": {
    "collapsed": false
   },
   "outputs": [
    {
     "data": {
      "text/plain": [
       "('17:55:00', '17:59:00')"
      ]
     },
     "execution_count": 57,
     "metadata": {},
     "output_type": "execute_result"
    }
   ],
   "source": [
    "next_bus('Village')"
   ]
  },
  {
   "cell_type": "markdown",
   "metadata": {},
   "source": [
    "If you call the function without any arguments, it will use **Emerald** as the station and your **Current Time** as the default value."
   ]
  },
  {
   "cell_type": "code",
   "execution_count": 58,
   "metadata": {
    "collapsed": false
   },
   "outputs": [
    {
     "data": {
      "text/plain": [
       "('18:12:00', '18:27:00')"
      ]
     },
     "execution_count": 58,
     "metadata": {},
     "output_type": "execute_result"
    }
   ],
   "source": [
    "next_bus()"
   ]
  },
  {
   "cell_type": "markdown",
   "metadata": {},
   "source": [
    "You can put the python file inside your main program folder and use the import command to import it in your program and use it.\n",
    "\n",
    "        from timkruz import next_bus"
   ]
  }
 ],
 "metadata": {
  "kernelspec": {
   "display_name": "Python 3",
   "language": "python",
   "name": "python3"
  },
  "language_info": {
   "codemirror_mode": {
    "name": "ipython",
    "version": 3
   },
   "file_extension": ".py",
   "mimetype": "text/x-python",
   "name": "python",
   "nbconvert_exporter": "python",
   "pygments_lexer": "ipython3",
   "version": "3.5.1"
  }
 },
 "nbformat": 4,
 "nbformat_minor": 0
}
